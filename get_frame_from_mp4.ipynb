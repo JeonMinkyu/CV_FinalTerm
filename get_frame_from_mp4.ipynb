{
 "cells": [
  {
   "cell_type": "code",
   "execution_count": 1,
   "metadata": {},
   "outputs": [],
   "source": [
    "import cv2\n",
    "import os"
   ]
  },
  {
   "cell_type": "code",
   "execution_count": 2,
   "metadata": {},
   "outputs": [
    {
     "data": {
      "text/plain": [
       "'/home/jeon/Documents/CV_FinalTerm'"
      ]
     },
     "execution_count": 2,
     "metadata": {},
     "output_type": "execute_result"
    }
   ],
   "source": [
    "pwd"
   ]
  },
  {
   "cell_type": "code",
   "execution_count": 3,
   "metadata": {},
   "outputs": [],
   "source": [
    "wd = '/home/jeon/Documents/CV_FinalTerm/' #data folder명 적기\n",
    "video_names = os.listdir(wd+'video')"
   ]
  },
  {
   "cell_type": "code",
   "execution_count": 4,
   "metadata": {},
   "outputs": [],
   "source": [
    "def getFrame(sec, video_name): #, width=320, height=320):\n",
    "    # width, height : 설정할 이미지의 크기 조정\n",
    "    vidcap.set(cv2.CAP_PROP_POS_MSEC,sec*1000)\n",
    "    hasFrames,image = vidcap.read()\n",
    "#     image = cv2.resize(image, (width,height))\n",
    "    if hasFrames:\n",
    "        cv2.imwrite(wd+\"image/\"+\"image_2_\"+str(i)+\".jpg\", image)     # save frame as JPG file\n",
    "    return hasFrames"
   ]
  },
  {
   "cell_type": "code",
   "execution_count": 5,
   "metadata": {},
   "outputs": [],
   "source": [
    "if not os.path.exists(wd+'image'): #wd안에 'image'라는 폴더를 만들고 여기다가 frame을 저장 \n",
    "    os.makedirs(wd+'image')\n",
    "\n",
    "i=0\n",
    "for video_name in video_names:\n",
    "\n",
    "    vidcap = cv2.VideoCapture(wd+'video/linear.mp4') #video data는 원래 비디오 영상 이미지가 담겨있는 폴더 명\n",
    "    sec = 0\n",
    "    frameRate = 2 #//it will capture image in each 0.5 second (조정 가능!)\n",
    "#     count=1\n",
    "    success = getFrame(sec, video_name)\n",
    "    while success:\n",
    "#         count = count + 1\n",
    "        i = i + 1\n",
    "        sec = sec + frameRate\n",
    "        sec = round(sec, 2)\n",
    "        success = getFrame(sec, video_name)"
   ]
  },
  {
   "cell_type": "code",
   "execution_count": null,
   "metadata": {},
   "outputs": [],
   "source": []
  }
 ],
 "metadata": {
  "kernelspec": {
   "display_name": "minkyu",
   "language": "python",
   "name": "minkyu"
  },
  "language_info": {
   "codemirror_mode": {
    "name": "ipython",
    "version": 3
   },
   "file_extension": ".py",
   "mimetype": "text/x-python",
   "name": "python",
   "nbconvert_exporter": "python",
   "pygments_lexer": "ipython3",
   "version": "3.7.7"
  }
 },
 "nbformat": 4,
 "nbformat_minor": 4
}
